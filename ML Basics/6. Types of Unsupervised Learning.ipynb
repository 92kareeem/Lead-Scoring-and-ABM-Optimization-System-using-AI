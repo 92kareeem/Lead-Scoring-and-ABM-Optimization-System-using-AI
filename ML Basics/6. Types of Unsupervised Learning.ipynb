Unsupervised learning is a machine learning problem type in which training data consists of a set of input vectors but no corresponding target values. The idea behind this type of learning is to group information based on similarities, patterns, and differences.

For example, if we were releasing a new product, we can use unsupervised learning methods to identify who the target market for the new product will be: this is because there is no historical information about who the target customer is and their demographics.

Unsupervised learning can be broken down into three main tasks:

Clustering
Association rules
Dimensionality reduction.
Clustering in Unsupervised Learning:
The primary objective is to find natural divisions or clusters within the data, making it a valuable tool for exploratory data analysis and pattern discovery.

Several clustering algorithms are available, each with its own approach to forming clusters:

K-Means Clustering: K-Means is one of the most popular clustering algorithms. It partitions data into 'K' clusters by minimizing the sum of squared distances between data points and the centroid of their assigned cluster.
-Hierarchical Clustering: This technique builds a hierarchy of clusters by successively merging or splitting clusters based on their proximity. It results in a tree-like structure called a dendrogram.

-DBSCAN (Density-Based Spatial Clustering of Applications with Noise): DBSCAN identifies clusters based on data density. It groups data points that are closely packed and considers points in sparse regions as noise.

Let's illustrate the concept of clustering in unsupervised learning with a simple example using the K-Means clustering algorithm in Python. In this example, we'll use the popular scikit-learn library to perform K-Means clustering on a synthetic dataset.

import numpy as np

import matplotlib.pyplot as plt

from sklearn.datasets import make_blobs

from sklearn.cluster import KMeans

# Generate a synthetic dataset with three clusters
X, _ = make_blobs(n_samples=300, centers=3, random_state=42)

# Visualize the data points
plt.scatter(X[:, 0], X[:, 1], s=50)

plt.title("Synthetic Data with Three Clusters")

plt.xlabel("Feature 1")

plt.ylabel("Feature 2")

plt.show()

# Apply K-Means clustering with K=3
kmeans = KMeans(n_clusters=3, random_state=42)

kmeans.fit(X)

# Get the cluster assignments for each data point
cluster_labels = kmeans.labels_


# Get the cluster centroids
cluster_centers = kmeans.cluster_centers_

# Visualize the clustered data
plt.scatter(X[:, 0], X[:, 1], c=cluster_labels, s=50, cmap='viridis')

plt.scatter(cluster_centers[:, 0], cluster_centers[:, 1], c='red', marker='X', s=200, label='Cluster Centers')

plt.title("K-Means Clustering Results (K=3)")

plt.xlabel("Feature 1")

plt.ylabel("Feature 2")

plt.legend()

plt.show()

Dimensionality reduction
Dimensionality reduction is a crucial preprocessing step in unsupervised learning, especially when dealing with high-dimensional data. It helps overcome the challenges associated with high dimensionality, enhances data visualization and interpretation, improves model efficiency and performance, and simplifies the data analysis process.

For example, as the number of features (dimensions) in a dataset increases, the volume of the data space grows exponentially. This phenomenon is known as the "curse of dimensionality." High-dimensional data often becomes sparse, and the density of data points in the space decreases. This sparsity can lead to increased computational complexity and difficulties in data analysis.

In relation to visualization:

Human intuition is limited when it comes to understanding data in high-dimensional spaces. Visualizing data in three dimensions or less is relatively straightforward, but as the dimensionality increases, visual interpretation becomes challenging. Dimensionality reduction techniques, such as PCA (Principal Component Analysis) and t-SNE (t-Distributed Stochastic Neighbor Embedding), project high-dimensional data into lower-dimensional spaces that can be visualized more easily.

Let's illustrate the concept of Principal Component Analysis (PCA) with a practical Python example. PCA is a dimensionality reduction technique used to reduce the number of features in a dataset while retaining as much of the original variance as possible. It achieves this by transforming the data into a new coordinate system defined by the principal components.

import numpy as np

import matplotlib.pyplot as plt

from sklearn.decomposition import PCA


# Create a simulated dataset with 3 features
np.random.seed(0)

n_samples = 100

feature1 = np.random.rand(n_samples)

feature2 = 2 * feature1 + np.random.rand(n_samples)

feature3 = 0.5 * feature1 - 2 * feature2 + np.random.rand(n_samples)

# Combine the features into a single dataset
X = np.column_stack((feature1, feature2, feature3))

# Apply PCA to reduce the dimensionality to 2 principal components
pca = PCA(n_components=2)

X_pca = pca.fit_transform(X)

# Visualize the original and PCA-reduced data
plt.figure(figsize=(12, 5))

plt.subplot(1, 2, 1)

plt.scatter(X[:, 0], X[:, 1])

plt.title("Original Data")

plt.subplot(1, 2, 2)

plt.scatter(X_pca[:, 0], X_pca[:, 1])

plt.title("PCA-Reduced Data")

plt.tight_layout()

plt.show()

# Print the explained variance ratio
explained_variance_ratio = pca.explained_variance_ratio_

print("Explained Variance Ratio:", explained_variance_ratio)

